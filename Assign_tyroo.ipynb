{
 "cells": [
  {
   "cell_type": "code",
   "execution_count": 355,
   "metadata": {},
   "outputs": [],
   "source": [
    "import numpy as np\n",
    "import pandas as pd\n",
    "import matplotlib.pyplot as plt\n",
    "import seaborn as sns\n",
    "%matplotlib inline"
   ]
  },
  {
   "cell_type": "code",
   "execution_count": 356,
   "metadata": {},
   "outputs": [
    {
     "data": {
      "text/html": [
       "<div>\n",
       "<style scoped>\n",
       "    .dataframe tbody tr th:only-of-type {\n",
       "        vertical-align: middle;\n",
       "    }\n",
       "\n",
       "    .dataframe tbody tr th {\n",
       "        vertical-align: top;\n",
       "    }\n",
       "\n",
       "    .dataframe thead th {\n",
       "        text-align: right;\n",
       "    }\n",
       "</style>\n",
       "<table border=\"1\" class=\"dataframe\">\n",
       "  <thead>\n",
       "    <tr style=\"text-align: right;\">\n",
       "      <th></th>\n",
       "      <th>Publisher_Id</th>\n",
       "      <th>Revenue(AUG)</th>\n",
       "      <th>CR(click to install)</th>\n",
       "      <th>Clicks</th>\n",
       "      <th>Installs</th>\n",
       "      <th>Fraud</th>\n",
       "      <th>GP(AUG)</th>\n",
       "      <th>Rank1-5</th>\n",
       "    </tr>\n",
       "  </thead>\n",
       "  <tbody>\n",
       "    <tr>\n",
       "      <th>0</th>\n",
       "      <td>1</td>\n",
       "      <td>$34,904.10</td>\n",
       "      <td>0.114</td>\n",
       "      <td>2.108595e+05</td>\n",
       "      <td>7696</td>\n",
       "      <td>3608.0</td>\n",
       "      <td>$13,043.81</td>\n",
       "      <td>NaN</td>\n",
       "    </tr>\n",
       "    <tr>\n",
       "      <th>1</th>\n",
       "      <td>2</td>\n",
       "      <td>$2,501.12</td>\n",
       "      <td>0.065</td>\n",
       "      <td>5.009341e+04</td>\n",
       "      <td>1051</td>\n",
       "      <td>150.0</td>\n",
       "      <td>$-306.66</td>\n",
       "      <td>NaN</td>\n",
       "    </tr>\n",
       "    <tr>\n",
       "      <th>2</th>\n",
       "      <td>3</td>\n",
       "      <td>$30,905.06</td>\n",
       "      <td>0.028</td>\n",
       "      <td>9.035158e+05</td>\n",
       "      <td>8025</td>\n",
       "      <td>1885.0</td>\n",
       "      <td>$1,357.80</td>\n",
       "      <td>NaN</td>\n",
       "    </tr>\n",
       "    <tr>\n",
       "      <th>3</th>\n",
       "      <td>4</td>\n",
       "      <td>$46,287.50</td>\n",
       "      <td>0.013</td>\n",
       "      <td>2.436227e+06</td>\n",
       "      <td>10545</td>\n",
       "      <td>4134.0</td>\n",
       "      <td>$15,891.12</td>\n",
       "      <td>NaN</td>\n",
       "    </tr>\n",
       "    <tr>\n",
       "      <th>4</th>\n",
       "      <td>5</td>\n",
       "      <td>$17,826.55</td>\n",
       "      <td>0.063</td>\n",
       "      <td>2.388518e+05</td>\n",
       "      <td>4801</td>\n",
       "      <td>4198.0</td>\n",
       "      <td>$5,630.88</td>\n",
       "      <td>NaN</td>\n",
       "    </tr>\n",
       "  </tbody>\n",
       "</table>\n",
       "</div>"
      ],
      "text/plain": [
       "   Publisher_Id  Revenue(AUG)  CR(click to install)        Clicks  Installs  \\\n",
       "0             1   $34,904.10                  0.114  2.108595e+05      7696   \n",
       "1             2    $2,501.12                  0.065  5.009341e+04      1051   \n",
       "2             3   $30,905.06                  0.028  9.035158e+05      8025   \n",
       "3             4   $46,287.50                  0.013  2.436227e+06     10545   \n",
       "4             5   $17,826.55                  0.063  2.388518e+05      4801   \n",
       "\n",
       "    Fraud       GP(AUG)  Rank1-5  \n",
       "0  3608.0   $13,043.81       NaN  \n",
       "1   150.0     $-306.66       NaN  \n",
       "2  1885.0    $1,357.80       NaN  \n",
       "3  4134.0   $15,891.12       NaN  \n",
       "4  4198.0    $5,630.88       NaN  "
      ]
     },
     "execution_count": 356,
     "metadata": {},
     "output_type": "execute_result"
    }
   ],
   "source": [
    "train_df = pd.read_csv(\"Exam data_Add tech.csv\")\n",
    "train_df.head()"
   ]
  },
  {
   "cell_type": "code",
   "execution_count": 357,
   "metadata": {},
   "outputs": [],
   "source": [
    "train_df[\"Revenue(AUG)\"] = train_df[\"Revenue(AUG)\"].apply(lambda x :(x.replace(\",\", \"\").replace(\"-\", \"NaN\").strip()[1:]))\n",
    "train_df[\"Revenue(AUG)\"] = train_df[\"Revenue(AUG)\"].apply(lambda x : float(x))"
   ]
  },
  {
   "cell_type": "code",
   "execution_count": 358,
   "metadata": {
    "scrolled": true
   },
   "outputs": [
    {
     "data": {
      "text/plain": [
       "Publisher_Id             0\n",
       "Revenue(AUG)             1\n",
       "CR(click to install)     0\n",
       "Clicks                   0\n",
       "Installs                 0\n",
       "Fraud                   10\n",
       "GP(AUG)                  0\n",
       "Rank1-5                 78\n",
       "dtype: int64"
      ]
     },
     "execution_count": 358,
     "metadata": {},
     "output_type": "execute_result"
    }
   ],
   "source": [
    "train_df.isnull().sum()"
   ]
  },
  {
   "cell_type": "markdown",
   "metadata": {},
   "source": [
    "**Q.1 - Code to identify missing values and null values in the variable fraud and, missing and null values present in the fraud variable is :**"
   ]
  },
  {
   "cell_type": "code",
   "execution_count": 359,
   "metadata": {},
   "outputs": [
    {
     "name": "stdout",
     "output_type": "stream",
     "text": [
      "missing and null values = 10\n"
     ]
    }
   ],
   "source": [
    "missing_values = train_df[\"Fraud\"].isnull().sum()\n",
    "print (\"missing and null values =\" , missing_values)"
   ]
  },
  {
   "cell_type": "markdown",
   "metadata": {},
   "source": [
    "**Q.2 - The standard deviation and average of revenue variable**"
   ]
  },
  {
   "cell_type": "code",
   "execution_count": 360,
   "metadata": {},
   "outputs": [
    {
     "name": "stdout",
     "output_type": "stream",
     "text": [
      "standard_deviation =  8148.960122223222\n",
      "average_revenue = 4886.4180519480515\n"
     ]
    }
   ],
   "source": [
    "standard_deviation = train_df[\"Revenue(AUG)\"].std()\n",
    "average_revenue = train_df[\"Revenue(AUG)\"].mean()\n",
    "print (\"standard_deviation = \",standard_deviation)\n",
    "print (\"average_revenue =\",average_revenue)"
   ]
  },
  {
   "cell_type": "markdown",
   "metadata": {},
   "source": [
    "**Q.3 - Standard Deviation is the difference between the mean of the revenue and revenue datapoints, while average revenue is the mean of the revenue datapoints.**"
   ]
  },
  {
   "cell_type": "code",
   "execution_count": 361,
   "metadata": {},
   "outputs": [],
   "source": [
    "import re\n",
    "from decimal import Decimal\n",
    "def string_to_float(s):\n",
    "    if re.match(r'[-]*\\d.*', s):\n",
    "        return float(s)\n",
    "    else:\n",
    "        return None"
   ]
  },
  {
   "cell_type": "code",
   "execution_count": 362,
   "metadata": {},
   "outputs": [],
   "source": [
    "train_df[\"GP(AUG)\"] = train_df[\"GP(AUG)\"].apply(lambda x :(x.replace(\",\", \"\").strip()[1:]))\n",
    "train_df[\"GP(AUG)\"] = train_df[\"GP(AUG)\"].apply(lambda x : (string_to_float(x)))"
   ]
  },
  {
   "cell_type": "code",
   "execution_count": 363,
   "metadata": {},
   "outputs": [
    {
     "data": {
      "text/html": [
       "<div>\n",
       "<style scoped>\n",
       "    .dataframe tbody tr th:only-of-type {\n",
       "        vertical-align: middle;\n",
       "    }\n",
       "\n",
       "    .dataframe tbody tr th {\n",
       "        vertical-align: top;\n",
       "    }\n",
       "\n",
       "    .dataframe thead th {\n",
       "        text-align: right;\n",
       "    }\n",
       "</style>\n",
       "<table border=\"1\" class=\"dataframe\">\n",
       "  <thead>\n",
       "    <tr style=\"text-align: right;\">\n",
       "      <th></th>\n",
       "      <th>Publisher_Id</th>\n",
       "      <th>Revenue(AUG)</th>\n",
       "      <th>CR(click to install)</th>\n",
       "      <th>Clicks</th>\n",
       "      <th>Installs</th>\n",
       "      <th>Fraud</th>\n",
       "      <th>GP(AUG)</th>\n",
       "      <th>Rank1-5</th>\n",
       "    </tr>\n",
       "  </thead>\n",
       "  <tbody>\n",
       "    <tr>\n",
       "      <th>count</th>\n",
       "      <td>78.000000</td>\n",
       "      <td>77.000000</td>\n",
       "      <td>78.000000</td>\n",
       "      <td>7.800000e+01</td>\n",
       "      <td>78.000000</td>\n",
       "      <td>68.000000</td>\n",
       "      <td>77.000000</td>\n",
       "      <td>0.0</td>\n",
       "    </tr>\n",
       "    <tr>\n",
       "      <th>mean</th>\n",
       "      <td>42.794872</td>\n",
       "      <td>4886.418052</td>\n",
       "      <td>0.430487</td>\n",
       "      <td>1.194578e+05</td>\n",
       "      <td>1176.115385</td>\n",
       "      <td>586.338235</td>\n",
       "      <td>1670.180649</td>\n",
       "      <td>NaN</td>\n",
       "    </tr>\n",
       "    <tr>\n",
       "      <th>std</th>\n",
       "      <td>24.998888</td>\n",
       "      <td>8148.960122</td>\n",
       "      <td>1.325129</td>\n",
       "      <td>3.284107e+05</td>\n",
       "      <td>1884.690577</td>\n",
       "      <td>1001.293710</td>\n",
       "      <td>2850.083345</td>\n",
       "      <td>NaN</td>\n",
       "    </tr>\n",
       "    <tr>\n",
       "      <th>min</th>\n",
       "      <td>1.000000</td>\n",
       "      <td>0.620000</td>\n",
       "      <td>0.000000</td>\n",
       "      <td>5.185185e-01</td>\n",
       "      <td>0.000000</td>\n",
       "      <td>0.000000</td>\n",
       "      <td>-306.660000</td>\n",
       "      <td>NaN</td>\n",
       "    </tr>\n",
       "    <tr>\n",
       "      <th>25%</th>\n",
       "      <td>22.250000</td>\n",
       "      <td>487.660000</td>\n",
       "      <td>0.042750</td>\n",
       "      <td>1.100519e+03</td>\n",
       "      <td>104.750000</td>\n",
       "      <td>15.000000</td>\n",
       "      <td>144.240000</td>\n",
       "      <td>NaN</td>\n",
       "    </tr>\n",
       "    <tr>\n",
       "      <th>50%</th>\n",
       "      <td>42.500000</td>\n",
       "      <td>1797.740000</td>\n",
       "      <td>0.112500</td>\n",
       "      <td>1.208763e+04</td>\n",
       "      <td>433.500000</td>\n",
       "      <td>153.000000</td>\n",
       "      <td>655.480000</td>\n",
       "      <td>NaN</td>\n",
       "    </tr>\n",
       "    <tr>\n",
       "      <th>75%</th>\n",
       "      <td>63.750000</td>\n",
       "      <td>5951.320000</td>\n",
       "      <td>0.326500</td>\n",
       "      <td>8.834594e+04</td>\n",
       "      <td>1332.750000</td>\n",
       "      <td>642.000000</td>\n",
       "      <td>1891.270000</td>\n",
       "      <td>NaN</td>\n",
       "    </tr>\n",
       "    <tr>\n",
       "      <th>max</th>\n",
       "      <td>85.000000</td>\n",
       "      <td>46287.500000</td>\n",
       "      <td>9.429000</td>\n",
       "      <td>2.436227e+06</td>\n",
       "      <td>10545.000000</td>\n",
       "      <td>4198.000000</td>\n",
       "      <td>15891.120000</td>\n",
       "      <td>NaN</td>\n",
       "    </tr>\n",
       "  </tbody>\n",
       "</table>\n",
       "</div>"
      ],
      "text/plain": [
       "       Publisher_Id  Revenue(AUG)  CR(click to install)        Clicks  \\\n",
       "count     78.000000     77.000000             78.000000  7.800000e+01   \n",
       "mean      42.794872   4886.418052              0.430487  1.194578e+05   \n",
       "std       24.998888   8148.960122              1.325129  3.284107e+05   \n",
       "min        1.000000      0.620000              0.000000  5.185185e-01   \n",
       "25%       22.250000    487.660000              0.042750  1.100519e+03   \n",
       "50%       42.500000   1797.740000              0.112500  1.208763e+04   \n",
       "75%       63.750000   5951.320000              0.326500  8.834594e+04   \n",
       "max       85.000000  46287.500000              9.429000  2.436227e+06   \n",
       "\n",
       "           Installs        Fraud       GP(AUG)  Rank1-5  \n",
       "count     78.000000    68.000000     77.000000      0.0  \n",
       "mean    1176.115385   586.338235   1670.180649      NaN  \n",
       "std     1884.690577  1001.293710   2850.083345      NaN  \n",
       "min        0.000000     0.000000   -306.660000      NaN  \n",
       "25%      104.750000    15.000000    144.240000      NaN  \n",
       "50%      433.500000   153.000000    655.480000      NaN  \n",
       "75%     1332.750000   642.000000   1891.270000      NaN  \n",
       "max    10545.000000  4198.000000  15891.120000      NaN  "
      ]
     },
     "execution_count": 363,
     "metadata": {},
     "output_type": "execute_result"
    }
   ],
   "source": [
    "train_df.describe()"
   ]
  },
  {
   "cell_type": "markdown",
   "metadata": {},
   "source": [
    "**Q4. Publisher number with highest GP**"
   ]
  },
  {
   "cell_type": "code",
   "execution_count": 364,
   "metadata": {},
   "outputs": [
    {
     "name": "stdout",
     "output_type": "stream",
     "text": [
      "Publisher ID with max GP = 4\n"
     ]
    }
   ],
   "source": [
    "print(\"Publisher ID with max GP =\", train_df['GP(AUG)'].idxmax()+1)"
   ]
  },
  {
   "cell_type": "markdown",
   "metadata": {},
   "source": [
    "**Q5.Code to construct a Histogram for variable GP**"
   ]
  },
  {
   "cell_type": "code",
   "execution_count": 365,
   "metadata": {},
   "outputs": [
    {
     "data": {
      "text/plain": [
       "(array([52., 12.,  7.,  2.,  0.,  1.,  1.,  0.,  1.,  1.]),\n",
       " array([ -306.66 ,  1313.118,  2932.896,  4552.674,  6172.452,  7792.23 ,\n",
       "         9412.008, 11031.786, 12651.564, 14271.342, 15891.12 ]),\n",
       " <a list of 10 Patch objects>)"
      ]
     },
     "execution_count": 365,
     "metadata": {},
     "output_type": "execute_result"
    },
    {
     "data": {
      "image/png": "[encoded data removed]",
      "text/plain": [
       "<Figure size 432x288 with 1 Axes>"
      ]
     },
     "metadata": {
      "needs_background": "light"
     },
     "output_type": "display_data"
    }
   ],
   "source": [
    "plt.hist(train_df[\"GP(AUG)\"].dropna())"
   ]
  },
  {
   "cell_type": "code",
   "execution_count": 366,
   "metadata": {},
   "outputs": [
    {
     "data": {
      "text/plain": [
       "3.1522945074934707"
      ]
     },
     "execution_count": 366,
     "metadata": {},
     "output_type": "execute_result"
    },
    {
     "data": {
      "image/png": "[encoded data removed]",
      "text/plain": [
       "<Figure size 576x360 with 1 Axes>"
      ]
     },
     "metadata": {
      "needs_background": "light"
     },
     "output_type": "display_data"
    }
   ],
   "source": [
    "target = train_df[\"GP(AUG)\"].dropna()\n",
    "plt.figure(figsize=(8,5))\n",
    "sns.distplot(target)\n",
    "plt.title('Distribution of GP(AUG)')\n",
    "from scipy.stats import skew\n",
    "skew(target)"
   ]
  },
  {
   "cell_type": "markdown",
   "metadata": {},
   "source": [
    "**Q6. The skewness is positive, so GP is not normally distributed. \n",
    "Q7. We can say from the graph too, that the graph is positively skewed.**"
   ]
  },
  {
   "cell_type": "code",
   "execution_count": 367,
   "metadata": {},
   "outputs": [
    {
     "data": {
      "text/plain": [
       "<matplotlib.axes._subplots.AxesSubplot at 0x29715846710>"
      ]
     },
     "execution_count": 367,
     "metadata": {},
     "output_type": "execute_result"
    },
    {
     "data": {
      "image/png": "[encoded data removed]",
      "text/plain": [
       "<Figure size 432x288 with 1 Axes>"
      ]
     },
     "metadata": {
      "needs_background": "light"
     },
     "output_type": "display_data"
    }
   ],
   "source": [
    "sns.boxplot(target)"
   ]
  },
  {
   "cell_type": "code",
   "execution_count": 368,
   "metadata": {},
   "outputs": [
    {
     "data": {
      "text/plain": [
       "<matplotlib.axes._subplots.AxesSubplot at 0x29715900780>"
      ]
     },
     "execution_count": 368,
     "metadata": {},
     "output_type": "execute_result"
    },
    {
     "data": {
      "image/png": "[encoded data removed]",
      "text/plain": [
       "<Figure size 432x288 with 1 Axes>"
      ]
     },
     "metadata": {
      "needs_background": "light"
     },
     "output_type": "display_data"
    }
   ],
   "source": [
    "sns.boxplot(train_df.Fraud)"
   ]
  },
  {
   "cell_type": "code",
   "execution_count": 369,
   "metadata": {},
   "outputs": [
    {
     "name": "stdout",
     "output_type": "stream",
     "text": [
      "586.3382352941177 153.0 1002589.0928446001\n"
     ]
    }
   ],
   "source": [
    "m = train_df.Fraud.mean()\n",
    "n = train_df.Fraud.median()\n",
    "var = train_df.Fraud.var()\n",
    "train_df.Fraud = train_df.Fraud.fillna(n)\n",
    "tdf = train_df\n",
    "print(m, n, var)"
   ]
  },
  {
   "cell_type": "markdown",
   "metadata": {},
   "source": [
    "**Q8. Filling the Fraud empty datapoints with median value as Fraud datapoints has much variance from the mean value** "
   ]
  },
  {
   "cell_type": "code",
   "execution_count": 370,
   "metadata": {},
   "outputs": [],
   "source": [
    "from sklearn.preprocessing import MinMaxScaler\n",
    "scaler = MinMaxScaler()\n",
    "tdf.drop(\"Rank1-5\", axis=1, inplace=True)\n",
    "tdf[\"GP/Rev\"] = tdf[\"GP(AUG)\"]/tdf[\"Revenue(AUG)\"]"
   ]
  },
  {
   "cell_type": "code",
   "execution_count": 371,
   "metadata": {},
   "outputs": [
    {
     "name": "stderr",
     "output_type": "stream",
     "text": [
      "C:\\Users\\suraj\\Anaconda3\\lib\\site-packages\\pandas\\core\\frame.py:3697: SettingWithCopyWarning: \n",
      "A value is trying to be set on a copy of a slice from a DataFrame\n",
      "\n",
      "See the caveats in the documentation: http://pandas.pydata.org/pandas-docs/stable/indexing.html#indexing-view-versus-copy\n",
      "  errors=errors)\n"
     ]
    }
   ],
   "source": [
    "tdf = tdf.dropna()\n",
    "tdf_ID = tdf['Publisher_Id']\n",
    "tdf.drop(\"Publisher_Id\", axis = 1, inplace = True)\n",
    "tdf = scaler.fit_transform(tdf.dropna())"
   ]
  },
  {
   "cell_type": "markdown",
   "metadata": {},
   "source": [
    "**Q9.Appropriate formulae weightage for Publishers Ranking, considering Revenue, GP and CR(Click to Install) to be positive weights and fraud to be negative**"
   ]
  },
  {
   "cell_type": "code",
   "execution_count": 372,
   "metadata": {},
   "outputs": [],
   "source": [
    "def rank_cal(arr):\n",
    "    rev = arr[0]\n",
    "    cr = arr[1]\n",
    "    clicks = arr[2]\n",
    "    installs = arr[3]\n",
    "    gp = arr[5]\n",
    "    fraud = arr[4]\n",
    "    gpr = arr[6]\n",
    "    return (0.5*rev+0.5*(gpr)+0.12*installs-0.31112*fraud)"
   ]
  },
  {
   "cell_type": "code",
   "execution_count": 373,
   "metadata": {},
   "outputs": [],
   "source": [
    "ranks = []\n",
    "for row in tdf:\n",
    "    ranks.append(rank_cal(row))\n",
    "ranks = np.array(ranks)\n",
    "scaler = MinMaxScaler(feature_range=(1,5))\n",
    "ranks = scaler.fit_transform(ranks.reshape(-1, 1))"
   ]
  },
  {
   "cell_type": "code",
   "execution_count": 374,
   "metadata": {},
   "outputs": [],
   "source": [
    "import math\n",
    "new_ranks = []\n",
    "for rank in ranks:\n",
    "    new_ranks.append(6-math.ceil(rank))"
   ]
  },
  {
   "cell_type": "markdown",
   "metadata": {},
   "source": [
    " **Q10. Ranking of these publishers based on the score**"
   ]
  },
  {
   "cell_type": "code",
   "execution_count": 380,
   "metadata": {},
   "outputs": [
    {
     "data": {
      "text/html": [
       "<div>\n",
       "<style scoped>\n",
       "    .dataframe tbody tr th:only-of-type {\n",
       "        vertical-align: middle;\n",
       "    }\n",
       "\n",
       "    .dataframe tbody tr th {\n",
       "        vertical-align: top;\n",
       "    }\n",
       "\n",
       "    .dataframe thead th {\n",
       "        text-align: right;\n",
       "    }\n",
       "</style>\n",
       "<table border=\"1\" class=\"dataframe\">\n",
       "  <thead>\n",
       "    <tr style=\"text-align: right;\">\n",
       "      <th></th>\n",
       "      <th>Publisher_Id</th>\n",
       "      <th>Rank1-5</th>\n",
       "    </tr>\n",
       "  </thead>\n",
       "  <tbody>\n",
       "    <tr>\n",
       "      <th>0</th>\n",
       "      <td>1</td>\n",
       "      <td>1</td>\n",
       "    </tr>\n",
       "    <tr>\n",
       "      <th>1</th>\n",
       "      <td>2</td>\n",
       "      <td>4</td>\n",
       "    </tr>\n",
       "    <tr>\n",
       "      <th>2</th>\n",
       "      <td>3</td>\n",
       "      <td>2</td>\n",
       "    </tr>\n",
       "    <tr>\n",
       "      <th>3</th>\n",
       "      <td>4</td>\n",
       "      <td>1</td>\n",
       "    </tr>\n",
       "    <tr>\n",
       "      <th>4</th>\n",
       "      <td>5</td>\n",
       "      <td>3</td>\n",
       "    </tr>\n",
       "    <tr>\n",
       "      <th>5</th>\n",
       "      <td>6</td>\n",
       "      <td>2</td>\n",
       "    </tr>\n",
       "    <tr>\n",
       "      <th>6</th>\n",
       "      <td>7</td>\n",
       "      <td>4</td>\n",
       "    </tr>\n",
       "    <tr>\n",
       "      <th>7</th>\n",
       "      <td>8</td>\n",
       "      <td>2</td>\n",
       "    </tr>\n",
       "    <tr>\n",
       "      <th>8</th>\n",
       "      <td>9</td>\n",
       "      <td>3</td>\n",
       "    </tr>\n",
       "    <tr>\n",
       "      <th>9</th>\n",
       "      <td>10</td>\n",
       "      <td>3</td>\n",
       "    </tr>\n",
       "    <tr>\n",
       "      <th>10</th>\n",
       "      <td>12</td>\n",
       "      <td>3</td>\n",
       "    </tr>\n",
       "    <tr>\n",
       "      <th>11</th>\n",
       "      <td>13</td>\n",
       "      <td>2</td>\n",
       "    </tr>\n",
       "    <tr>\n",
       "      <th>12</th>\n",
       "      <td>14</td>\n",
       "      <td>3</td>\n",
       "    </tr>\n",
       "    <tr>\n",
       "      <th>13</th>\n",
       "      <td>15</td>\n",
       "      <td>1</td>\n",
       "    </tr>\n",
       "    <tr>\n",
       "      <th>14</th>\n",
       "      <td>16</td>\n",
       "      <td>3</td>\n",
       "    </tr>\n",
       "    <tr>\n",
       "      <th>15</th>\n",
       "      <td>17</td>\n",
       "      <td>3</td>\n",
       "    </tr>\n",
       "    <tr>\n",
       "      <th>16</th>\n",
       "      <td>18</td>\n",
       "      <td>2</td>\n",
       "    </tr>\n",
       "    <tr>\n",
       "      <th>17</th>\n",
       "      <td>19</td>\n",
       "      <td>2</td>\n",
       "    </tr>\n",
       "    <tr>\n",
       "      <th>18</th>\n",
       "      <td>20</td>\n",
       "      <td>3</td>\n",
       "    </tr>\n",
       "    <tr>\n",
       "      <th>19</th>\n",
       "      <td>22</td>\n",
       "      <td>3</td>\n",
       "    </tr>\n",
       "    <tr>\n",
       "      <th>20</th>\n",
       "      <td>23</td>\n",
       "      <td>3</td>\n",
       "    </tr>\n",
       "    <tr>\n",
       "      <th>21</th>\n",
       "      <td>24</td>\n",
       "      <td>3</td>\n",
       "    </tr>\n",
       "    <tr>\n",
       "      <th>22</th>\n",
       "      <td>25</td>\n",
       "      <td>3</td>\n",
       "    </tr>\n",
       "    <tr>\n",
       "      <th>23</th>\n",
       "      <td>26</td>\n",
       "      <td>4</td>\n",
       "    </tr>\n",
       "    <tr>\n",
       "      <th>24</th>\n",
       "      <td>27</td>\n",
       "      <td>2</td>\n",
       "    </tr>\n",
       "    <tr>\n",
       "      <th>25</th>\n",
       "      <td>28</td>\n",
       "      <td>5</td>\n",
       "    </tr>\n",
       "    <tr>\n",
       "      <th>26</th>\n",
       "      <td>29</td>\n",
       "      <td>2</td>\n",
       "    </tr>\n",
       "    <tr>\n",
       "      <th>27</th>\n",
       "      <td>30</td>\n",
       "      <td>2</td>\n",
       "    </tr>\n",
       "    <tr>\n",
       "      <th>28</th>\n",
       "      <td>31</td>\n",
       "      <td>1</td>\n",
       "    </tr>\n",
       "    <tr>\n",
       "      <th>29</th>\n",
       "      <td>32</td>\n",
       "      <td>1</td>\n",
       "    </tr>\n",
       "    <tr>\n",
       "      <th>...</th>\n",
       "      <td>...</td>\n",
       "      <td>...</td>\n",
       "    </tr>\n",
       "    <tr>\n",
       "      <th>48</th>\n",
       "      <td>52</td>\n",
       "      <td>3</td>\n",
       "    </tr>\n",
       "    <tr>\n",
       "      <th>49</th>\n",
       "      <td>55</td>\n",
       "      <td>3</td>\n",
       "    </tr>\n",
       "    <tr>\n",
       "      <th>50</th>\n",
       "      <td>56</td>\n",
       "      <td>1</td>\n",
       "    </tr>\n",
       "    <tr>\n",
       "      <th>51</th>\n",
       "      <td>57</td>\n",
       "      <td>3</td>\n",
       "    </tr>\n",
       "    <tr>\n",
       "      <th>52</th>\n",
       "      <td>58</td>\n",
       "      <td>2</td>\n",
       "    </tr>\n",
       "    <tr>\n",
       "      <th>53</th>\n",
       "      <td>59</td>\n",
       "      <td>3</td>\n",
       "    </tr>\n",
       "    <tr>\n",
       "      <th>54</th>\n",
       "      <td>60</td>\n",
       "      <td>3</td>\n",
       "    </tr>\n",
       "    <tr>\n",
       "      <th>55</th>\n",
       "      <td>61</td>\n",
       "      <td>4</td>\n",
       "    </tr>\n",
       "    <tr>\n",
       "      <th>56</th>\n",
       "      <td>62</td>\n",
       "      <td>2</td>\n",
       "    </tr>\n",
       "    <tr>\n",
       "      <th>57</th>\n",
       "      <td>63</td>\n",
       "      <td>3</td>\n",
       "    </tr>\n",
       "    <tr>\n",
       "      <th>58</th>\n",
       "      <td>64</td>\n",
       "      <td>3</td>\n",
       "    </tr>\n",
       "    <tr>\n",
       "      <th>59</th>\n",
       "      <td>65</td>\n",
       "      <td>1</td>\n",
       "    </tr>\n",
       "    <tr>\n",
       "      <th>60</th>\n",
       "      <td>67</td>\n",
       "      <td>3</td>\n",
       "    </tr>\n",
       "    <tr>\n",
       "      <th>61</th>\n",
       "      <td>68</td>\n",
       "      <td>3</td>\n",
       "    </tr>\n",
       "    <tr>\n",
       "      <th>62</th>\n",
       "      <td>69</td>\n",
       "      <td>2</td>\n",
       "    </tr>\n",
       "    <tr>\n",
       "      <th>63</th>\n",
       "      <td>70</td>\n",
       "      <td>3</td>\n",
       "    </tr>\n",
       "    <tr>\n",
       "      <th>64</th>\n",
       "      <td>72</td>\n",
       "      <td>3</td>\n",
       "    </tr>\n",
       "    <tr>\n",
       "      <th>65</th>\n",
       "      <td>73</td>\n",
       "      <td>2</td>\n",
       "    </tr>\n",
       "    <tr>\n",
       "      <th>66</th>\n",
       "      <td>74</td>\n",
       "      <td>2</td>\n",
       "    </tr>\n",
       "    <tr>\n",
       "      <th>67</th>\n",
       "      <td>75</td>\n",
       "      <td>3</td>\n",
       "    </tr>\n",
       "    <tr>\n",
       "      <th>68</th>\n",
       "      <td>76</td>\n",
       "      <td>1</td>\n",
       "    </tr>\n",
       "    <tr>\n",
       "      <th>69</th>\n",
       "      <td>77</td>\n",
       "      <td>3</td>\n",
       "    </tr>\n",
       "    <tr>\n",
       "      <th>70</th>\n",
       "      <td>78</td>\n",
       "      <td>2</td>\n",
       "    </tr>\n",
       "    <tr>\n",
       "      <th>71</th>\n",
       "      <td>79</td>\n",
       "      <td>3</td>\n",
       "    </tr>\n",
       "    <tr>\n",
       "      <th>72</th>\n",
       "      <td>80</td>\n",
       "      <td>1</td>\n",
       "    </tr>\n",
       "    <tr>\n",
       "      <th>73</th>\n",
       "      <td>81</td>\n",
       "      <td>4</td>\n",
       "    </tr>\n",
       "    <tr>\n",
       "      <th>74</th>\n",
       "      <td>82</td>\n",
       "      <td>3</td>\n",
       "    </tr>\n",
       "    <tr>\n",
       "      <th>75</th>\n",
       "      <td>83</td>\n",
       "      <td>3</td>\n",
       "    </tr>\n",
       "    <tr>\n",
       "      <th>76</th>\n",
       "      <td>84</td>\n",
       "      <td>3</td>\n",
       "    </tr>\n",
       "    <tr>\n",
       "      <th>77</th>\n",
       "      <td>85</td>\n",
       "      <td>4</td>\n",
       "    </tr>\n",
       "  </tbody>\n",
       "</table>\n",
       "<p>77 rows × 2 columns</p>\n",
       "</div>"
      ],
      "text/plain": [
       "    Publisher_Id  Rank1-5\n",
       "0              1        1\n",
       "1              2        4\n",
       "2              3        2\n",
       "3              4        1\n",
       "4              5        3\n",
       "5              6        2\n",
       "6              7        4\n",
       "7              8        2\n",
       "8              9        3\n",
       "9             10        3\n",
       "10            12        3\n",
       "11            13        2\n",
       "12            14        3\n",
       "13            15        1\n",
       "14            16        3\n",
       "15            17        3\n",
       "16            18        2\n",
       "17            19        2\n",
       "18            20        3\n",
       "19            22        3\n",
       "20            23        3\n",
       "21            24        3\n",
       "22            25        3\n",
       "23            26        4\n",
       "24            27        2\n",
       "25            28        5\n",
       "26            29        2\n",
       "27            30        2\n",
       "28            31        1\n",
       "29            32        1\n",
       "..           ...      ...\n",
       "48            52        3\n",
       "49            55        3\n",
       "50            56        1\n",
       "51            57        3\n",
       "52            58        2\n",
       "53            59        3\n",
       "54            60        3\n",
       "55            61        4\n",
       "56            62        2\n",
       "57            63        3\n",
       "58            64        3\n",
       "59            65        1\n",
       "60            67        3\n",
       "61            68        3\n",
       "62            69        2\n",
       "63            70        3\n",
       "64            72        3\n",
       "65            73        2\n",
       "66            74        2\n",
       "67            75        3\n",
       "68            76        1\n",
       "69            77        3\n",
       "70            78        2\n",
       "71            79        3\n",
       "72            80        1\n",
       "73            81        4\n",
       "74            82        3\n",
       "75            83        3\n",
       "76            84        3\n",
       "77            85        4\n",
       "\n",
       "[77 rows x 2 columns]"
      ]
     },
     "execution_count": 380,
     "metadata": {},
     "output_type": "execute_result"
    }
   ],
   "source": [
    "sub = pd.DataFrame()\n",
    "sub['Publisher_Id'] = tdf_ID\n",
    "sub['Rank1-5'] = new_ranks\n",
    "sub"
   ]
  },
  {
   "cell_type": "code",
   "execution_count": 381,
   "metadata": {},
   "outputs": [
    {
     "data": {
      "text/plain": [
       "0.008206895085008296"
      ]
     },
     "execution_count": 381,
     "metadata": {},
     "output_type": "execute_result"
    },
    {
     "data": {
      "image/png": "[encoded data removed]",
      "text/plain": [
       "<Figure size 576x360 with 1 Axes>"
      ]
     },
     "metadata": {
      "needs_background": "light"
     },
     "output_type": "display_data"
    }
   ],
   "source": [
    "plt.figure(figsize=(8,5))\n",
    "sns.distplot(new_ranks)\n",
    "plt.title('Distribution Publisher Ranks')\n",
    "from scipy.stats import skew\n",
    "skew(new_ranks)"
   ]
  }
 ],
 "metadata": {
  "kernelspec": {
   "display_name": "Python 3",
   "language": "python",
   "name": "python3"
  },
  "language_info": {
   "codemirror_mode": {
    "name": "ipython",
    "version": 3
   },
   "file_extension": ".py",
   "mimetype": "text/x-python",
   "name": "python",
   "nbconvert_exporter": "python",
   "pygments_lexer": "ipython3",
   "version": "3.7.0"
  }
 },
 "nbformat": 4,
 "nbformat_minor": 2
}
